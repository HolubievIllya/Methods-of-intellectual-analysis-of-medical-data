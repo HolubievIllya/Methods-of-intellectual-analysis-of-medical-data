{
  "nbformat": 4,
  "nbformat_minor": 0,
  "metadata": {
    "colab": {
      "provenance": []
    },
    "kernelspec": {
      "name": "python3",
      "display_name": "Python 3"
    },
    "language_info": {
      "name": "python"
    }
  },
  "cells": [
    {
      "cell_type": "code",
      "execution_count": null,
      "metadata": {
        "id": "LlgHOpu_lG6x"
      },
      "outputs": [],
      "source": []
    },
    {
      "cell_type": "markdown",
      "source": [
        "Голубєв Ілля БФ-01 2 варіант"
      ],
      "metadata": {
        "id": "pdtfp-vLlP98"
      }
    },
    {
      "cell_type": "code",
      "source": [
        "import random # імпортуємо модуль рендом для рандомних чисел"
      ],
      "metadata": {
        "id": "gqLTmOyjlTka"
      },
      "execution_count": 1,
      "outputs": []
    },
    {
      "cell_type": "markdown",
      "source": [
        "1. Створює перший текстовий файл, записує у нього алгебраїчний вираз для розрахунку, закриває файл;"
      ],
      "metadata": {
        "id": "gTJu8GSelWAM"
      }
    },
    {
      "cell_type": "code",
      "source": [
        "with open(\"file1.txt\", \"w\") as f:\n",
        "    f.write(str(random.randint(-1000, 1000)) + \"+\" + str(random.randint(-1000, 1000)) + \"-\"\n",
        "            + str(random.randint(-1000, 1000)) + \"/\" + str(str(random.randint(-1000, 1000))))"
      ],
      "metadata": {
        "id": "UPE8UkKBlXur"
      },
      "execution_count": 5,
      "outputs": []
    },
    {
      "cell_type": "markdown",
      "source": [
        "2. Зчитує із першого файлу рядок із алгебраїчним виразом, розраховує його та виводить результат;"
      ],
      "metadata": {
        "id": "KQyWT-anlZ7X"
      }
    },
    {
      "cell_type": "code",
      "source": [
        "with open(\"file1.txt\", \"r\") as f:\n",
        "    result = f.read()\n",
        "print(eval(result))"
      ],
      "metadata": {
        "colab": {
          "base_uri": "https://localhost:8080/"
        },
        "id": "FLeJ1vN3lbkk",
        "outputId": "6cfb8ce8-0514-4fb0-b699-ce8048309ceb"
      },
      "execution_count": 6,
      "outputs": [
        {
          "output_type": "stream",
          "name": "stdout",
          "text": [
            "435.2153284671533\n"
          ]
        }
      ]
    },
    {
      "cell_type": "markdown",
      "source": [
        "3. Створює другий файл та записує у нього квадратну матрицю цілих чисел розміром 4*4, закриває файл;"
      ],
      "metadata": {
        "id": "anJr8jI8lqLY"
      }
    },
    {
      "cell_type": "code",
      "source": [
        "with open(\"file2.txt\", \"w\") as f:\n",
        "    for i in range(4):\n",
        "        for j in range(4):\n",
        "            f.write(str(random.randint(0, 10)) + \" \") # записує 4 будь-які числа\n",
        "        f.write(\"\\n\") # після 4 чисел в одному рядку створює новий"
      ],
      "metadata": {
        "id": "Qc3STBYClssg"
      },
      "execution_count": 7,
      "outputs": []
    },
    {
      "cell_type": "markdown",
      "source": [
        "4. Зчитує із другого файлу матрицю;"
      ],
      "metadata": {
        "id": "L-VxreshluvN"
      }
    },
    {
      "cell_type": "code",
      "source": [
        "with open(\"file2.txt\", \"r\") as f:\n",
        "    matrix = [[int(num) for num in line.split()] for line in f]"
      ],
      "metadata": {
        "id": "emZ3Qeu1lwLx"
      },
      "execution_count": 8,
      "outputs": []
    },
    {
      "cell_type": "markdown",
      "source": [
        "5. Розраховує суму елементів 2-го та 3-го рядочків та виводить результат."
      ],
      "metadata": {
        "id": "OVDG9H_Nly3A"
      }
    },
    {
      "cell_type": "code",
      "source": [
        "print(f\"Матриця:\\n{matrix}\")\n",
        "print(f\"Сума 2-го рядка: {sum(matrix[1])}, сума 3-го рядка: {sum(matrix[2])}\")"
      ],
      "metadata": {
        "colab": {
          "base_uri": "https://localhost:8080/"
        },
        "id": "StXvDUxFlzbe",
        "outputId": "6b9e7054-57ff-48cb-8388-6701f0ed343a"
      },
      "execution_count": 9,
      "outputs": [
        {
          "output_type": "stream",
          "name": "stdout",
          "text": [
            "Матриця:\n",
            "[[9, 1, 3, 0], [8, 8, 2, 3], [9, 2, 3, 7], [6, 8, 0, 2]]\n",
            "Сума 2-го рядка: 21, сума 3-го рядка: 21\n"
          ]
        }
      ]
    }
  ]
}